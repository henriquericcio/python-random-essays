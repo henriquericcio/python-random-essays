{
  "cells": [
    {
      "cell_type": "markdown",
      "metadata": {},
      "source": [
        "montecarlo"
      ]
    },
    {
      "cell_type": "code",
      "execution_count": 8,
      "metadata": {
        "trusted": true
      },
      "outputs": [
        {
          "name": "stdout",
          "output_type": "stream",
          "text": [
            "The integral from 0 to pi of sin(x):  2.027360398312021\n"
          ]
        }
      ],
      "source": [
        "import numpy as np\n",
        "from numpy import random\n",
        "\n",
        "#https://youtu.be/WAf0rqwAvgg\n",
        "\n",
        "\n",
        "a = 0\n",
        "b = np.pi #limits of integration\n",
        "\n",
        "N = 1000\n",
        "xrand = random.uniform(a,b,N)\n",
        "\n",
        "def func(x):\n",
        "    return np.sin(x)\n",
        "\n",
        "integral = 0.0\n",
        "\n",
        "for i in range(N):\n",
        "    integral += func(xrand[i])\n",
        "    \n",
        "answer = (b-a)/float(N)*integral\n",
        "print (\"The integral from 0 to pi of sin(x): \", answer)\n",
        "\n"
      ]
    }
  ],
  "metadata": {
    "kernelspec": {
      "display_name": "venv",
      "language": "python",
      "name": "python3"
    },
    "language_info": {
      "codemirror_mode": {
        "name": "ipython",
        "version": 3
      },
      "file_extension": ".py",
      "mimetype": "text/x-python",
      "name": "python",
      "nbconvert_exporter": "python",
      "pygments_lexer": "ipython3",
      "version": "3.10.12"
    }
  },
  "nbformat": 4,
  "nbformat_minor": 4
}
