{
  "metadata": {
    "language_info": {
      "codemirror_mode": {
        "name": "python",
        "version": 3
      },
      "file_extension": ".py",
      "mimetype": "text/x-python",
      "name": "python",
      "nbconvert_exporter": "python",
      "pygments_lexer": "ipython3",
      "version": "3.8"
    },
    "kernelspec": {
      "name": "python",
      "display_name": "Python (Pyodide)",
      "language": "python"
    }
  },
  "nbformat_minor": 4,
  "nbformat": 4,
  "cells": [
    {
      "cell_type": "code",
      "source": "%matplotlib inline\n\nimport numpy as np\nimport matplotlib.pyplot as plt\nfrom numpy import random\n\n#https://youtu.be/WAf0rqwAvgg\n\n# function to integrate\na = 0\nb = np.pi #limits of integration\n\nN = 1000\nxrand = random.uniform(a,b,N)\n\ndef func(x):\n    return np.sin(x)\n\nintegral = 0.0\n\nfor i in range(N):\n    integral += func(xrand[i])\n    \nanswer = (b-a)/float(N)*integral\nprint (\"The integral from 0 to pi of sin(x): \", answer)\n\n",
      "metadata": {
        "trusted": true
      },
      "execution_count": 10,
      "outputs": [
        {
          "name": "stdout",
          "text": "The integral from 0 to pi of sin(x):  2.0026393809427137\n",
          "output_type": "stream"
        }
      ]
    },
    {
      "cell_type": "code",
      "source": "",
      "metadata": {},
      "execution_count": null,
      "outputs": []
    },
    {
      "cell_type": "code",
      "source": "",
      "metadata": {},
      "execution_count": null,
      "outputs": []
    }
  ]
}